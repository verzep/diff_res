{
 "cells": [
  {
   "cell_type": "code",
   "execution_count": 1,
   "metadata": {
    "collapsed": true,
    "pycharm": {
     "name": "#%%\n"
    }
   },
   "outputs": [],
   "source": [
    "import jax\n",
    "\n",
    "from RCN import RCN\n",
    "\n",
    "import matplotlib.pyplot as plt\n",
    "import numpy as np\n",
    "from copy import copy\n",
    "import jax.numpy as jnp\n",
    "from jax import random, grad, jit\n",
    "from functools import partial\n",
    "\n",
    "from dysts.datasets import load_dataset\n",
    "from utils import train_test_split, compute_forecast_horizon\n",
    "\n",
    "from dysts.flows import Lorenz\n",
    "from readouts import *\n",
    "\n",
    "\n"
   ]
  },
  {
   "cell_type": "code",
   "execution_count": 3,
   "outputs": [
    {
     "ename": "TypeError",
     "evalue": "unhashable type: 'ArrayImpl'",
     "output_type": "error",
     "traceback": [
      "\u001B[0;31m---------------------------------------------------------------------------\u001B[0m",
      "\u001B[0;31mTypeError\u001B[0m                                 Traceback (most recent call last)",
      "Cell \u001B[0;32mIn[3], line 23\u001B[0m\n\u001B[1;32m     21\u001B[0m readout \u001B[38;5;241m=\u001B[39m QuadraticReadout(\u001B[38;5;241m500\u001B[39m, reg_param\u001B[38;5;241m=\u001B[39m\u001B[38;5;241m1e-6\u001B[39m)\n\u001B[1;32m     22\u001B[0m rcn \u001B[38;5;241m=\u001B[39m RCN(key\u001B[38;5;241m=\u001B[39mkey, readout\u001B[38;5;241m=\u001B[39mreadout, n_input\u001B[38;5;241m=\u001B[39m\u001B[38;5;241m3\u001B[39m, dt \u001B[38;5;241m=\u001B[39mdt, washout_steps\u001B[38;5;241m=\u001B[39m\u001B[38;5;241m100\u001B[39m)\n\u001B[0;32m---> 23\u001B[0m \u001B[43mrcn\u001B[49m\u001B[38;5;241;43m.\u001B[39;49m\u001B[43mtrain\u001B[49m\u001B[43m(\u001B[49m\u001B[43mx_train\u001B[49m\u001B[43m,\u001B[49m\u001B[43m \u001B[49m\u001B[43mx_dot_train\u001B[49m\u001B[43m)\u001B[49m\n\u001B[1;32m     24\u001B[0m y \u001B[38;5;241m=\u001B[39m rcn\u001B[38;5;241m.\u001B[39mpredict_states()\n\u001B[1;32m     26\u001B[0m \u001B[38;5;28mprint\u001B[39m(\u001B[38;5;124mf\u001B[39m\u001B[38;5;124m\"\u001B[39m\u001B[38;5;124mMSE is \u001B[39m\u001B[38;5;132;01m{\u001B[39;00mrcn\u001B[38;5;241m.\u001B[39mtrain_MSE()\u001B[38;5;132;01m}\u001B[39;00m\u001B[38;5;124m\"\u001B[39m)\n",
      "File \u001B[0;32m~/Documents/Mainz/Project_7_reservoir_dynamics/diff_res/RCN.py:219\u001B[0m, in \u001B[0;36mRCN.train\u001B[0;34m(self, input, input_dot, states, states_dot)\u001B[0m\n\u001B[1;32m    216\u001B[0m \u001B[38;5;28;01mif\u001B[39;00m states \u001B[38;5;129;01mis\u001B[39;00m \u001B[38;5;28;01mNone\u001B[39;00m:\n\u001B[1;32m    217\u001B[0m     states \u001B[38;5;241m=\u001B[39m \u001B[38;5;28mself\u001B[39m\u001B[38;5;241m.\u001B[39mlisten(\u001B[38;5;28minput\u001B[39m)\n\u001B[0;32m--> 219\u001B[0m \u001B[38;5;28;43mself\u001B[39;49m\u001B[38;5;241;43m.\u001B[39;49m\u001B[43mreadout\u001B[49m\u001B[38;5;241;43m.\u001B[39;49m\u001B[43mfit\u001B[49m\u001B[43m(\u001B[49m\u001B[38;5;28;43minput\u001B[39;49m\u001B[43m,\u001B[49m\u001B[43m \u001B[49m\u001B[43minput_dot\u001B[49m\u001B[43m,\u001B[49m\u001B[43m \u001B[49m\u001B[43mstates\u001B[49m\u001B[43m,\u001B[49m\u001B[43m \u001B[49m\u001B[43mstates_dot\u001B[49m\u001B[43m,\u001B[49m\u001B[43m \u001B[49m\u001B[38;5;28;43mself\u001B[39;49m\u001B[38;5;241;43m.\u001B[39;49m\u001B[43mwashout_steps\u001B[49m\u001B[43m)\u001B[49m\n",
      "File \u001B[0;32m~/Documents/Mainz/Project_7_reservoir_dynamics/diff_res/readouts.py:77\u001B[0m, in \u001B[0;36mQuadraticReadout.fit\u001B[0;34m(self, input, input_dot, states, states_dot, washout_steps)\u001B[0m\n\u001B[1;32m     76\u001B[0m \u001B[38;5;28;01mdef\u001B[39;00m \u001B[38;5;21mfit\u001B[39m(\u001B[38;5;28mself\u001B[39m,  \u001B[38;5;28minput\u001B[39m, input_dot, states, states_dot,washout_steps):\n\u001B[0;32m---> 77\u001B[0m     s \u001B[38;5;241m=\u001B[39m \u001B[43mjnp\u001B[49m\u001B[38;5;241;43m.\u001B[39;49m\u001B[43mhstack\u001B[49m\u001B[43m(\u001B[49m\u001B[43mstates\u001B[49m\u001B[43m[\u001B[49m\u001B[43mwashout_steps\u001B[49m\u001B[43m:\u001B[49m\u001B[43m]\u001B[49m\u001B[43m,\u001B[49m\u001B[43m \u001B[49m\u001B[43mstates\u001B[49m\u001B[43m[\u001B[49m\u001B[43mwashout_steps\u001B[49m\u001B[43m:\u001B[49m\u001B[43m]\u001B[49m\u001B[43m \u001B[49m\u001B[38;5;241;43m*\u001B[39;49m\u001B[38;5;241;43m*\u001B[39;49m\u001B[43m \u001B[49m\u001B[38;5;241;43m2\u001B[39;49m\u001B[43m)\u001B[49m\n\u001B[1;32m     79\u001B[0m     i \u001B[38;5;241m=\u001B[39m \u001B[38;5;28minput\u001B[39m[washout_steps:]\n\u001B[1;32m     81\u001B[0m     W_out \u001B[38;5;241m=\u001B[39m (jnp\u001B[38;5;241m.\u001B[39mlinalg\u001B[38;5;241m.\u001B[39mpinv(s\u001B[38;5;241m.\u001B[39mT \u001B[38;5;241m@\u001B[39m s \u001B[38;5;241m+\u001B[39m \u001B[38;5;28mself\u001B[39m\u001B[38;5;241m.\u001B[39mreg_param \u001B[38;5;241m*\u001B[39m jnp\u001B[38;5;241m.\u001B[39meye(\u001B[38;5;28mself\u001B[39m\u001B[38;5;241m.\u001B[39mn_dim))) \u001B[38;5;241m@\u001B[39m s\u001B[38;5;241m.\u001B[39mT \u001B[38;5;241m@\u001B[39m i\n",
      "File \u001B[0;32m~/anaconda3/envs/diff_res/lib/python3.10/site-packages/jax/_src/numpy/lax_numpy.py:1799\u001B[0m, in \u001B[0;36mhstack\u001B[0;34m(tup, dtype)\u001B[0m\n\u001B[1;32m   1797\u001B[0m   arrs \u001B[38;5;241m=\u001B[39m [atleast_1d(m) \u001B[38;5;28;01mfor\u001B[39;00m m \u001B[38;5;129;01min\u001B[39;00m tup]\n\u001B[1;32m   1798\u001B[0m   arr0_ndim \u001B[38;5;241m=\u001B[39m arrs[\u001B[38;5;241m0\u001B[39m]\u001B[38;5;241m.\u001B[39mndim\n\u001B[0;32m-> 1799\u001B[0m \u001B[38;5;28;01mreturn\u001B[39;00m \u001B[43mconcatenate\u001B[49m\u001B[43m(\u001B[49m\u001B[43marrs\u001B[49m\u001B[43m,\u001B[49m\u001B[43m \u001B[49m\u001B[43maxis\u001B[49m\u001B[38;5;241;43m=\u001B[39;49m\u001B[38;5;241;43m0\u001B[39;49m\u001B[43m \u001B[49m\u001B[38;5;28;43;01mif\u001B[39;49;00m\u001B[43m \u001B[49m\u001B[43marr0_ndim\u001B[49m\u001B[43m \u001B[49m\u001B[38;5;241;43m==\u001B[39;49m\u001B[43m \u001B[49m\u001B[38;5;241;43m1\u001B[39;49m\u001B[43m \u001B[49m\u001B[38;5;28;43;01melse\u001B[39;49;00m\u001B[43m \u001B[49m\u001B[38;5;241;43m1\u001B[39;49m\u001B[43m,\u001B[49m\u001B[43m \u001B[49m\u001B[43mdtype\u001B[49m\u001B[38;5;241;43m=\u001B[39;49m\u001B[43mdtype\u001B[49m\u001B[43m)\u001B[49m\n",
      "File \u001B[0;32m~/anaconda3/envs/diff_res/lib/python3.10/site-packages/jax/_src/numpy/lax_numpy.py:1754\u001B[0m, in \u001B[0;36mconcatenate\u001B[0;34m(arrays, axis, dtype)\u001B[0m\n\u001B[1;32m   1750\u001B[0m \u001B[38;5;129m@util\u001B[39m\u001B[38;5;241m.\u001B[39m_wraps(np\u001B[38;5;241m.\u001B[39mconcatenate)\n\u001B[1;32m   1751\u001B[0m \u001B[38;5;28;01mdef\u001B[39;00m \u001B[38;5;21mconcatenate\u001B[39m(arrays: Union[np\u001B[38;5;241m.\u001B[39mndarray, Array, Sequence[ArrayLike]],\n\u001B[1;32m   1752\u001B[0m                 axis: Optional[\u001B[38;5;28mint\u001B[39m] \u001B[38;5;241m=\u001B[39m \u001B[38;5;241m0\u001B[39m, dtype: Optional[DTypeLike] \u001B[38;5;241m=\u001B[39m \u001B[38;5;28;01mNone\u001B[39;00m) \u001B[38;5;241m-\u001B[39m\u001B[38;5;241m>\u001B[39m Array:\n\u001B[1;32m   1753\u001B[0m   \u001B[38;5;28;01mif\u001B[39;00m \u001B[38;5;28misinstance\u001B[39m(arrays, (np\u001B[38;5;241m.\u001B[39mndarray, Array)):\n\u001B[0;32m-> 1754\u001B[0m     \u001B[38;5;28;01mreturn\u001B[39;00m \u001B[43m_concatenate_array\u001B[49m\u001B[43m(\u001B[49m\u001B[43marrays\u001B[49m\u001B[43m,\u001B[49m\u001B[43m \u001B[49m\u001B[43maxis\u001B[49m\u001B[43m,\u001B[49m\u001B[43m \u001B[49m\u001B[43mdtype\u001B[49m\u001B[38;5;241;43m=\u001B[39;49m\u001B[43mdtype\u001B[49m\u001B[43m)\u001B[49m\n\u001B[1;32m   1755\u001B[0m   util\u001B[38;5;241m.\u001B[39m_stackable(\u001B[38;5;241m*\u001B[39marrays) \u001B[38;5;129;01mor\u001B[39;00m util\u001B[38;5;241m.\u001B[39mcheck_arraylike(\u001B[38;5;124m\"\u001B[39m\u001B[38;5;124mconcatenate\u001B[39m\u001B[38;5;124m\"\u001B[39m, \u001B[38;5;241m*\u001B[39marrays)\n\u001B[1;32m   1756\u001B[0m   \u001B[38;5;28;01mif\u001B[39;00m \u001B[38;5;129;01mnot\u001B[39;00m \u001B[38;5;28mlen\u001B[39m(arrays):\n",
      "File \u001B[0;32m~/anaconda3/envs/diff_res/lib/python3.10/site-packages/jax/_src/numpy/lax_numpy.py:1738\u001B[0m, in \u001B[0;36m_concatenate_array\u001B[0;34m(arr, axis, dtype)\u001B[0m\n\u001B[1;32m   1735\u001B[0m \u001B[38;5;28;01mdef\u001B[39;00m \u001B[38;5;21m_concatenate_array\u001B[39m(arr: ArrayLike, axis: Optional[\u001B[38;5;28mint\u001B[39m],\n\u001B[1;32m   1736\u001B[0m                        dtype: Optional[DTypeLike] \u001B[38;5;241m=\u001B[39m \u001B[38;5;28;01mNone\u001B[39;00m) \u001B[38;5;241m-\u001B[39m\u001B[38;5;241m>\u001B[39m Array:\n\u001B[1;32m   1737\u001B[0m   \u001B[38;5;66;03m# Fast path for concatenation when the input is an ndarray rather than a list.\u001B[39;00m\n\u001B[0;32m-> 1738\u001B[0m   arr \u001B[38;5;241m=\u001B[39m \u001B[43masarray\u001B[49m\u001B[43m(\u001B[49m\u001B[43marr\u001B[49m\u001B[43m,\u001B[49m\u001B[43m \u001B[49m\u001B[43mdtype\u001B[49m\u001B[38;5;241;43m=\u001B[39;49m\u001B[43mdtype\u001B[49m\u001B[43m)\u001B[49m\n\u001B[1;32m   1739\u001B[0m   \u001B[38;5;28;01mif\u001B[39;00m arr\u001B[38;5;241m.\u001B[39mndim \u001B[38;5;241m==\u001B[39m \u001B[38;5;241m0\u001B[39m \u001B[38;5;129;01mor\u001B[39;00m arr\u001B[38;5;241m.\u001B[39mshape[\u001B[38;5;241m0\u001B[39m] \u001B[38;5;241m==\u001B[39m \u001B[38;5;241m0\u001B[39m:\n\u001B[1;32m   1740\u001B[0m     \u001B[38;5;28;01mraise\u001B[39;00m \u001B[38;5;167;01mValueError\u001B[39;00m(\u001B[38;5;124m\"\u001B[39m\u001B[38;5;124mNeed at least one array to concatenate.\u001B[39m\u001B[38;5;124m\"\u001B[39m)\n",
      "File \u001B[0;32m~/anaconda3/envs/diff_res/lib/python3.10/site-packages/jax/_src/numpy/lax_numpy.py:2010\u001B[0m, in \u001B[0;36masarray\u001B[0;34m(a, dtype, order)\u001B[0m\n\u001B[1;32m   2008\u001B[0m \u001B[38;5;129m@util\u001B[39m\u001B[38;5;241m.\u001B[39m_wraps(np\u001B[38;5;241m.\u001B[39masarray, lax_description\u001B[38;5;241m=\u001B[39m_ARRAY_DOC)\n\u001B[1;32m   2009\u001B[0m \u001B[38;5;28;01mdef\u001B[39;00m \u001B[38;5;21masarray\u001B[39m(a: Any, dtype: Optional[DTypeLike] \u001B[38;5;241m=\u001B[39m \u001B[38;5;28;01mNone\u001B[39;00m, order: Optional[\u001B[38;5;28mstr\u001B[39m] \u001B[38;5;241m=\u001B[39m \u001B[38;5;28;01mNone\u001B[39;00m) \u001B[38;5;241m-\u001B[39m\u001B[38;5;241m>\u001B[39m Array:\n\u001B[0;32m-> 2010\u001B[0m   \u001B[43mdtypes\u001B[49m\u001B[38;5;241;43m.\u001B[39;49m\u001B[43mcheck_user_dtype_supported\u001B[49m\u001B[43m(\u001B[49m\u001B[43mdtype\u001B[49m\u001B[43m,\u001B[49m\u001B[43m \u001B[49m\u001B[38;5;124;43m\"\u001B[39;49m\u001B[38;5;124;43masarray\u001B[39;49m\u001B[38;5;124;43m\"\u001B[39;49m\u001B[43m)\u001B[49m\n\u001B[1;32m   2011\u001B[0m   dtype \u001B[38;5;241m=\u001B[39m dtypes\u001B[38;5;241m.\u001B[39mcanonicalize_dtype(dtype) \u001B[38;5;28;01mif\u001B[39;00m dtype \u001B[38;5;129;01mis\u001B[39;00m \u001B[38;5;129;01mnot\u001B[39;00m \u001B[38;5;28;01mNone\u001B[39;00m \u001B[38;5;28;01melse\u001B[39;00m dtype\n\u001B[1;32m   2012\u001B[0m   \u001B[38;5;28;01mreturn\u001B[39;00m array(a, dtype\u001B[38;5;241m=\u001B[39mdtype, copy\u001B[38;5;241m=\u001B[39m\u001B[38;5;28;01mFalse\u001B[39;00m, order\u001B[38;5;241m=\u001B[39morder)\n",
      "File \u001B[0;32m~/anaconda3/envs/diff_res/lib/python3.10/site-packages/jax/_src/dtypes.py:679\u001B[0m, in \u001B[0;36mcheck_user_dtype_supported\u001B[0;34m(dtype, fun_name)\u001B[0m\n\u001B[1;32m    677\u001B[0m   msg \u001B[38;5;241m+\u001B[39m\u001B[38;5;241m=\u001B[39m \u001B[38;5;124mf\u001B[39m\u001B[38;5;124m\"\u001B[39m\u001B[38;5;124m in \u001B[39m\u001B[38;5;132;01m{\u001B[39;00mfun_name\u001B[38;5;132;01m}\u001B[39;00m\u001B[38;5;124m\"\u001B[39m \u001B[38;5;28;01mif\u001B[39;00m fun_name \u001B[38;5;28;01melse\u001B[39;00m \u001B[38;5;124m\"\u001B[39m\u001B[38;5;124m\"\u001B[39m\n\u001B[1;32m    678\u001B[0m   \u001B[38;5;28;01mraise\u001B[39;00m \u001B[38;5;167;01mTypeError\u001B[39;00m(msg)\n\u001B[0;32m--> 679\u001B[0m \u001B[38;5;28;01mif\u001B[39;00m dtype \u001B[38;5;129;01mis\u001B[39;00m \u001B[38;5;129;01mnot\u001B[39;00m \u001B[38;5;28;01mNone\u001B[39;00m \u001B[38;5;129;01mand\u001B[39;00m np_dtype \u001B[38;5;241m!=\u001B[39m \u001B[43mcanonicalize_dtype\u001B[49m\u001B[43m(\u001B[49m\u001B[43mdtype\u001B[49m\u001B[43m)\u001B[49m:\n\u001B[1;32m    680\u001B[0m   msg \u001B[38;5;241m=\u001B[39m (\u001B[38;5;124m\"\u001B[39m\u001B[38;5;124mExplicitly requested dtype \u001B[39m\u001B[38;5;132;01m{}\u001B[39;00m\u001B[38;5;124m \u001B[39m\u001B[38;5;132;01m{}\u001B[39;00m\u001B[38;5;124m is not available, \u001B[39m\u001B[38;5;124m\"\u001B[39m\n\u001B[1;32m    681\u001B[0m          \u001B[38;5;124m\"\u001B[39m\u001B[38;5;124mand will be truncated to dtype \u001B[39m\u001B[38;5;132;01m{}\u001B[39;00m\u001B[38;5;124m. To enable more dtypes, set the \u001B[39m\u001B[38;5;124m\"\u001B[39m\n\u001B[1;32m    682\u001B[0m          \u001B[38;5;124m\"\u001B[39m\u001B[38;5;124mjax_enable_x64 configuration option or the JAX_ENABLE_X64 shell \u001B[39m\u001B[38;5;124m\"\u001B[39m\n\u001B[1;32m    683\u001B[0m          \u001B[38;5;124m\"\u001B[39m\u001B[38;5;124menvironment variable. \u001B[39m\u001B[38;5;124m\"\u001B[39m\n\u001B[1;32m    684\u001B[0m          \u001B[38;5;124m\"\u001B[39m\u001B[38;5;124mSee https://github.com/google/jax#current-gotchas for more.\u001B[39m\u001B[38;5;124m\"\u001B[39m)\n\u001B[1;32m    685\u001B[0m   fun_name \u001B[38;5;241m=\u001B[39m \u001B[38;5;124mf\u001B[39m\u001B[38;5;124m\"\u001B[39m\u001B[38;5;124mrequested in \u001B[39m\u001B[38;5;132;01m{\u001B[39;00mfun_name\u001B[38;5;132;01m}\u001B[39;00m\u001B[38;5;124m\"\u001B[39m \u001B[38;5;28;01mif\u001B[39;00m fun_name \u001B[38;5;28;01melse\u001B[39;00m \u001B[38;5;124m\"\u001B[39m\u001B[38;5;124m\"\u001B[39m\n",
      "File \u001B[0;32m~/anaconda3/envs/diff_res/lib/python3.10/site-packages/jax/_src/dtypes.py:126\u001B[0m, in \u001B[0;36mcanonicalize_dtype\u001B[0;34m(dtype, allow_opaque_dtype)\u001B[0m\n\u001B[1;32m    124\u001B[0m \u001B[38;5;28;01mdef\u001B[39;00m \u001B[38;5;21mcanonicalize_dtype\u001B[39m(dtype: Any, allow_opaque_dtype: \u001B[38;5;28mbool\u001B[39m \u001B[38;5;241m=\u001B[39m \u001B[38;5;28;01mFalse\u001B[39;00m) \u001B[38;5;241m-\u001B[39m\u001B[38;5;241m>\u001B[39m Union[DType, OpaqueDType]:\n\u001B[1;32m    125\u001B[0m   \u001B[38;5;124;03m\"\"\"Convert from a dtype to a canonical dtype based on config.x64_enabled.\"\"\"\u001B[39;00m\n\u001B[0;32m--> 126\u001B[0m   \u001B[38;5;28;01mreturn\u001B[39;00m \u001B[43m_canonicalize_dtype\u001B[49m\u001B[43m(\u001B[49m\u001B[43mconfig\u001B[49m\u001B[38;5;241;43m.\u001B[39;49m\u001B[43mx64_enabled\u001B[49m\u001B[43m,\u001B[49m\u001B[43m \u001B[49m\u001B[43mallow_opaque_dtype\u001B[49m\u001B[43m,\u001B[49m\u001B[43m \u001B[49m\u001B[43mdtype\u001B[49m\u001B[43m)\u001B[49m\n",
      "\u001B[0;31mTypeError\u001B[0m: unhashable type: 'ArrayImpl'"
     ]
    }
   ],
   "source": [
    "dt = 1e-3\n",
    "train_per = 0.7\n",
    "lam_lorenz = 0.906\n",
    "\n",
    "## Load and simulate an attractor\n",
    "\n",
    "model = Lorenz()\n",
    "model.dt = dt\n",
    "\n",
    "t, x_tot = model.make_trajectory(8000, return_times=True)\n",
    "x_dot_tot = jnp.array(model.rhs(x_tot, t)).T\n",
    "\n",
    "x_train, x_test = train_test_split(x_tot,1000, train_percentage=train_per)\n",
    "x_dot_train, x_dot_test = train_test_split(x_dot_tot, 1000, train_percentage=train_per)\n",
    "\n",
    "\n",
    "\n",
    "\n",
    "key = random.PRNGKey(14)\n",
    "#readout = LinearReadout(500, 1e-6)\n",
    "readout = QuadraticReadout(500, reg_param=1e-6)\n",
    "rcn = RCN(key=key, readout=readout, n_input=3, dt =dt, washout_steps=100)\n",
    "rcn.train(x_train, x_dot_train)\n",
    "y = rcn.predict_states()\n",
    "\n",
    "print(f\"MSE is {rcn.train_MSE()}\")\n",
    "\n",
    "\n",
    "\n",
    "d_mce = rcn.derivative_train_MSE(x_dot_train)\n",
    "print(f\"MSE on derivative is {d_mce}\")\n",
    "\n",
    "print(\"generating test\")\n",
    "y_test = rcn.generate(len(x_test))"
   ],
   "metadata": {
    "collapsed": false,
    "pycharm": {
     "name": "#%%\n"
    }
   }
  },
  {
   "cell_type": "code",
   "execution_count": 3,
   "outputs": [
    {
     "ename": "AttributeError",
     "evalue": "'RCN' object has no attribute 'read_out'",
     "output_type": "error",
     "traceback": [
      "\u001B[0;31m---------------------------------------------------------------------------\u001B[0m",
      "\u001B[0;31mAttributeError\u001B[0m                            Traceback (most recent call last)",
      "Cell \u001B[0;32mIn[3], line 2\u001B[0m\n\u001B[1;32m      1\u001B[0m \u001B[38;5;28;01mfrom\u001B[39;00m \u001B[38;5;21;01mjax\u001B[39;00m \u001B[38;5;28;01mimport\u001B[39;00m jacobian\n\u001B[0;32m----> 2\u001B[0m r_o \u001B[38;5;241m=\u001B[39m \u001B[43mrcn\u001B[49m\u001B[38;5;241;43m.\u001B[39;49m\u001B[43mread_out\u001B[49m\n",
      "\u001B[0;31mAttributeError\u001B[0m: 'RCN' object has no attribute 'read_out'"
     ]
    }
   ],
   "source": [
    "from jax import jacobian\n",
    "r_o = rcn.read_out"
   ],
   "metadata": {
    "collapsed": false,
    "pycharm": {
     "name": "#%%\n"
    }
   }
  },
  {
   "cell_type": "code",
   "execution_count": 17,
   "outputs": [
    {
     "data": {
      "text/plain": "(3,)"
     },
     "execution_count": 17,
     "metadata": {},
     "output_type": "execute_result"
    }
   ],
   "source": [
    "X = jnp.arange(3*10, dtype=float).reshape(10,3)\n",
    "x = X[-1]\n",
    "x.shape"
   ],
   "metadata": {
    "collapsed": false,
    "pycharm": {
     "name": "#%%\n"
    }
   }
  },
  {
   "cell_type": "code",
   "execution_count": 18,
   "outputs": [
    {
     "name": "stdout",
     "output_type": "stream",
     "text": [
      "(3, 2) (3, 2)\n"
     ]
    }
   ],
   "source": [
    "W_l = jnp.ones((3,2))\n",
    "W_nl = jnp.ones((3,2))*2\n",
    "print(W_l.shape,\n",
    "W_nl.shape)"
   ],
   "metadata": {
    "collapsed": false,
    "pycharm": {
     "name": "#%%\n"
    }
   }
  },
  {
   "cell_type": "code",
   "execution_count": 21,
   "outputs": [
    {
     "data": {
      "text/plain": "Array([4792., 4792.], dtype=float64)"
     },
     "execution_count": 21,
     "metadata": {},
     "output_type": "execute_result"
    }
   ],
   "source": [
    "funz = lambda x: x@W_l + x**2 @ W_nl\n",
    "y = funz(x)\n",
    "y"
   ],
   "metadata": {
    "collapsed": false,
    "pycharm": {
     "name": "#%%\n"
    }
   }
  },
  {
   "cell_type": "code",
   "execution_count": 24,
   "outputs": [
    {
     "name": "stdout",
     "output_type": "stream",
     "text": [
      "(2, 3)\n"
     ]
    }
   ],
   "source": [
    "funz_jac = jax.jacfwd(funz)\n",
    "\n",
    "  # Example input for computing Jacobian\n",
    "jac = funz_jac(x)\n",
    "print(jac.shape)"
   ],
   "metadata": {
    "collapsed": false,
    "pycharm": {
     "name": "#%%\n"
    }
   }
  },
  {
   "cell_type": "code",
   "execution_count": 23,
   "outputs": [
    {
     "name": "stdout",
     "output_type": "stream",
     "text": [
      "(2, 3)\n"
     ]
    }
   ],
   "source": [
    "\n"
   ],
   "metadata": {
    "collapsed": false,
    "pycharm": {
     "name": "#%%\n"
    }
   }
  },
  {
   "cell_type": "code",
   "execution_count": 26,
   "outputs": [],
   "source": [
    "almox_perex_jac = jax.vmap(funz_jac, in_axes=0)"
   ],
   "metadata": {
    "collapsed": false,
    "pycharm": {
     "name": "#%%\n"
    }
   }
  },
  {
   "cell_type": "code",
   "execution_count": 27,
   "outputs": [
    {
     "data": {
      "text/plain": "(10, 2, 3)"
     },
     "execution_count": 27,
     "metadata": {},
     "output_type": "execute_result"
    }
   ],
   "source": [
    "almox_perex_jac(X).shape"
   ],
   "metadata": {
    "collapsed": false,
    "pycharm": {
     "name": "#%%\n"
    }
   }
  },
  {
   "cell_type": "code",
   "execution_count": 28,
   "outputs": [
    {
     "data": {
      "text/plain": "Array([[13., 17., 21.],\n       [13., 17., 21.]], dtype=float64)"
     },
     "execution_count": 28,
     "metadata": {},
     "output_type": "execute_result"
    }
   ],
   "source": [
    "almox_perex_jac(X)[1]"
   ],
   "metadata": {
    "collapsed": false,
    "pycharm": {
     "name": "#%%\n"
    }
   }
  },
  {
   "cell_type": "code",
   "execution_count": 418,
   "outputs": [
    {
     "data": {
      "text/plain": "Array([0., 1., 2.], dtype=float64)"
     },
     "execution_count": 418,
     "metadata": {},
     "output_type": "execute_result"
    }
   ],
   "source": [
    "X[0]"
   ],
   "metadata": {
    "collapsed": false,
    "pycharm": {
     "name": "#%%\n"
    }
   }
  },
  {
   "cell_type": "code",
   "execution_count": 141,
   "outputs": [
    {
     "data": {
      "text/plain": "(10, 3, 10, 500)"
     },
     "execution_count": 141,
     "metadata": {},
     "output_type": "execute_result"
    }
   ],
   "source": [],
   "metadata": {
    "collapsed": false,
    "pycharm": {
     "name": "#%%\n"
    }
   }
  },
  {
   "cell_type": "code",
   "execution_count": 29,
   "outputs": [
    {
     "name": "stdout",
     "output_type": "stream",
     "text": [
      "(10, 3, 2)\n"
     ]
    }
   ],
   "source": [
    "import jax\n",
    "import jax.numpy as jnp\n",
    "\n",
    "X = jnp.arange(3 * 10, dtype=float).reshape(10, 3)\n",
    "W = jnp.arange(3 * 2, dtype=float).reshape( 3,2)\n",
    "\n",
    "def funz(x):\n",
    "    return jnp.dot( x, W_l) + jnp.dot(x**2, W_nl)\n",
    "\n",
    "funz_jac = jax.jacfwd(funz)\n",
    "\n",
    "jac = jax.vmap(funz_jac, axis_name=1)(X)\n",
    "jac = jnp.swapaxes(jac, 1, 2)  # Swap the last two dimensions\n",
    "print(jac.shape)  # Output: (10, 3, 2)\n"
   ],
   "metadata": {
    "collapsed": false,
    "pycharm": {
     "name": "#%%\n"
    }
   }
  },
  {
   "cell_type": "code",
   "execution_count": 30,
   "outputs": [
    {
     "data": {
      "text/plain": "Array([[[  1.,   1.],\n        [  5.,   5.],\n        [  9.,   9.]],\n\n       [[ 13.,  13.],\n        [ 17.,  17.],\n        [ 21.,  21.]],\n\n       [[ 25.,  25.],\n        [ 29.,  29.],\n        [ 33.,  33.]],\n\n       [[ 37.,  37.],\n        [ 41.,  41.],\n        [ 45.,  45.]],\n\n       [[ 49.,  49.],\n        [ 53.,  53.],\n        [ 57.,  57.]],\n\n       [[ 61.,  61.],\n        [ 65.,  65.],\n        [ 69.,  69.]],\n\n       [[ 73.,  73.],\n        [ 77.,  77.],\n        [ 81.,  81.]],\n\n       [[ 85.,  85.],\n        [ 89.,  89.],\n        [ 93.,  93.]],\n\n       [[ 97.,  97.],\n        [101., 101.],\n        [105., 105.]],\n\n       [[109., 109.],\n        [113., 113.],\n        [117., 117.]]], dtype=float64)"
     },
     "execution_count": 30,
     "metadata": {},
     "output_type": "execute_result"
    }
   ],
   "source": [
    "jac"
   ],
   "metadata": {
    "collapsed": false,
    "pycharm": {
     "name": "#%%\n"
    }
   }
  },
  {
   "cell_type": "code",
   "execution_count": 445,
   "outputs": [
    {
     "data": {
      "text/plain": "Array([[0., 1.],\n       [2., 3.],\n       [4., 5.]], dtype=float64)"
     },
     "execution_count": 445,
     "metadata": {},
     "output_type": "execute_result"
    }
   ],
   "source": [
    "jac[0]"
   ],
   "metadata": {
    "collapsed": false,
    "pycharm": {
     "name": "#%%\n"
    }
   }
  },
  {
   "cell_type": "code",
   "execution_count": 32,
   "outputs": [
    {
     "name": "stdout",
     "output_type": "stream",
     "text": [
      "(2, 3)\n"
     ]
    }
   ],
   "source": [
    "import jax\n",
    "import jax.numpy as jnp\n",
    "\n",
    "X = jnp.arange(3*10, dtype=float).reshape(3, 10)\n",
    "W = jnp.ones((2, 3))\n",
    "\n",
    "def funz(x):\n",
    "    return jnp.dot(W, (0.5 * x ** 2))\n",
    "\n",
    "funz_jac = jax.jacrev(funz)\n",
    "\n",
    "x = X[:,0]  # Example input for computing Jacobian\n",
    "jac = funz_jac(x)\n",
    "print(jac.shape)  # Output: (2, 3)\n"
   ],
   "metadata": {
    "collapsed": false,
    "pycharm": {
     "name": "#%%\n"
    }
   }
  },
  {
   "cell_type": "code",
   "execution_count": null,
   "outputs": [],
   "source": [],
   "metadata": {
    "collapsed": false,
    "pycharm": {
     "name": "#%%\n"
    }
   }
  }
 ],
 "metadata": {
  "kernelspec": {
   "display_name": "Python 3",
   "language": "python",
   "name": "python3"
  },
  "language_info": {
   "codemirror_mode": {
    "name": "ipython",
    "version": 2
   },
   "file_extension": ".py",
   "mimetype": "text/x-python",
   "name": "python",
   "nbconvert_exporter": "python",
   "pygments_lexer": "ipython2",
   "version": "2.7.6"
  }
 },
 "nbformat": 4,
 "nbformat_minor": 0
}